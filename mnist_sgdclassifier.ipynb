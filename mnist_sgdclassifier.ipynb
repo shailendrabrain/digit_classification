{
 "cells": [
  {
   "cell_type": "code",
   "execution_count": 20,
   "metadata": {},
   "outputs": [
    {
     "name": "stdout",
     "output_type": "stream",
     "text": [
      "[[ 0.  0.  0.  0. 14.  7.  0.  0.]\n",
      " [ 0.  0.  0. 13. 16.  9.  0.  0.]\n",
      " [ 0.  0. 10. 16. 16.  7.  0.  0.]\n",
      " [ 0.  7. 16.  8. 16.  2.  0.  0.]\n",
      " [ 0.  1.  5.  6. 16.  6.  0.  0.]\n",
      " [ 0.  0.  0.  4. 16.  6.  0.  0.]\n",
      " [ 0.  0.  0.  2. 16.  6.  0.  0.]\n",
      " [ 0.  0.  0.  0. 12. 11.  0.  0.]]\n"
     ]
    },
    {
     "data": {
      "image/png": "[encoded data removed]",
      "text/plain": [
       "<Figure size 432x288 with 1 Axes>"
      ]
     },
     "metadata": {
      "needs_background": "light"
     },
     "output_type": "display_data"
    },
    {
     "name": "stdout",
     "output_type": "stream",
     "text": [
      "[[-4294.94377409   759.80560176 -5450.34712781 -2417.81294039\n",
      "   -519.89948658 -1345.7271835  -3542.91185061 -2259.33560993\n",
      "  -1237.20266333 -2803.25131353]]\n",
      "[[118   0   0   1   0   0   0   0   0   0]\n",
      " [  0 113   0   0   0   0   2   0   3   3]\n",
      " [  0   0 115   0   0   0   0   1   0   1]\n",
      " [  0   1   0 116   0   1   0   0   2   1]\n",
      " [  0   0   0   0 117   0   0   0   0   3]\n",
      " [  0   0   0   1   0 117   0   1   0   4]\n",
      " [  0   1   0   0   0   0 118   0   1   0]\n",
      " [  0   0   0   0   1   0   0 114   0   3]\n",
      " [  0   9   1   2   0   3   1   0 100   3]\n",
      " [  0   0   0   1   0   1   0   0   2 118]]\n"
     ]
    },
    {
     "data": {
      "image/png": "[encoded data removed]",
      "text/plain": [
       "<Figure size 288x288 with 1 Axes>"
      ]
     },
     "metadata": {
      "needs_background": "light"
     },
     "output_type": "display_data"
    }
   ],
   "source": [
    "# digit datasets\n",
    "# and their operation\n",
    "\n",
    "import numpy as np\n",
    "from sklearn import datasets\n",
    "#import classifier\n",
    "from sklearn.linear_model import SGDClassifier\n",
    "from sklearn.model_selection import train_test_split\n",
    "import matplotlib\n",
    "import matplotlib.pyplot as plt\n",
    "from sklearn.model_selection import cross_val_score\n",
    "from sklearn.model_selection import cross_val_predict\n",
    "from sklearn.metrics import confusion_matrix\n",
    "#get sgd object\n",
    "sgd_clf=SGDClassifier(random_state=42)\n",
    "\n",
    "\n",
    "mnist=datasets.load_digits()\n",
    "X,y=mnist.data,mnist.target\n",
    "\n",
    "#show off some digits\n",
    "\n",
    "some_digits=X[70]\n",
    "\n",
    "print(some_digits.reshape(8,8))\n",
    "new_digits=some_digits-1 #modification to image\n",
    "\n",
    "# every digits is represented by 8*8 pixel with 64 attributes\n",
    "#print(some_digits)\n",
    "new_digits_image=new_digits.reshape(8,8)\n",
    "\n",
    "some_digits_image=some_digits.reshape(8,8)\n",
    "\n",
    "#plt.imshow(some_digits_image,cmap=matplotlib.cm.binary)\n",
    "plt.imshow(some_digits_image)# if we use ,cmap=matplotlib.cm.binary than it convert image in binary image known as bitmap image\n",
    "plt.show()\n",
    "\n",
    "\n",
    "#data split\n",
    "X_train,X_test,y_train,y_test=X[:1200],X[1200:],y[:1200],y[1200:]\n",
    "#for direct\n",
    "#X_train,X_test,y_train,y_test=train_test_split(X,y,test_size=0.25,random_state=33)\n",
    "\n",
    "#for shufflleing the index\n",
    "shuffle_index=np.random.permutation(1200)\n",
    "X_train,y_train=X_train[shuffle_index],y_train[shuffle_index]\n",
    "\n",
    "#fitting the model\n",
    "sgd_clf.fit(X_train,y_train)\n",
    "\n",
    "some_digits_scores=sgd_clf.decision_function([some_digits]) #it give score for every class decide \n",
    "print(some_digits_scores) # lable the class with high score\n",
    "\n",
    "\n",
    "\n",
    "\n",
    "\n",
    "predicted_value=sgd_clf.predict(X_test)\n",
    "#cross validation k fold algorithm\n",
    "cross_val_score(sgd_clf,X_train,y_train,cv=4,scoring=\"accuracy\")\n",
    "#prediction\n",
    "\n",
    "#confusion matrix with confusion_matrix function\n",
    "y_train_pred=cross_val_predict(sgd_clf,X_train,y_train,cv=3)\n",
    "conf_mx=confusion_matrix(y_train,y_train_pred)\n",
    "print(conf_mx) # confusion matrix\n",
    "\n",
    "plt.matshow(conf_mx,cmap=plt.cm.gray) # graphical representation of confusion matrix\n",
    "plt.show()\n",
    "\n",
    "\n",
    "\n",
    "\n"
   ]
  },
  {
   "cell_type": "code",
   "execution_count": null,
   "metadata": {},
   "outputs": [],
   "source": []
  },
  {
   "cell_type": "code",
   "execution_count": 10,
   "metadata": {},
   "outputs": [
    {
     "name": "stdout",
     "output_type": "stream",
     "text": [
      "[[9.77586207]]\n"
     ]
    },
    {
     "data": {
      "image/png": "[encoded data removed]",
      "text/plain": [
       "<Figure size 432x288 with 1 Axes>"
      ]
     },
     "metadata": {
      "needs_background": "light"
     },
     "output_type": "display_data"
    }
   ],
   "source": [
    "import matplotlib.pyplot as plt\n",
    "from sklearn.linear_model import LinearRegression\n",
    "x=[[6],[8],[10],[14],[18]]\n",
    "y=[[7],[9],[13],[17.5],[18]]\n",
    "model=LinearRegression()\n",
    "model.fit(x,y)\n",
    "a=model.predict([[8]])\n",
    "print(a)\n",
    "plt.plot(x,y,'r.')\n",
    "plt.show()"
   ]
  },
  {
   "cell_type": "code",
   "execution_count": 14,
   "metadata": {},
   "outputs": [
    {
     "ename": "AttributeError",
     "evalue": "'function' object has no attribute 'plot_tree_partition'",
     "output_type": "error",
     "traceback": [
      "\u001b[1;31m---------------------------------------------------------------------------\u001b[0m",
      "\u001b[1;31mAttributeError\u001b[0m                            Traceback (most recent call last)",
      "\u001b[1;32m<ipython-input-14-7d8cfe630fe0>\u001b[0m in \u001b[0;36m<module>\u001b[1;34m\u001b[0m\n\u001b[0;32m     13\u001b[0m \u001b[1;32mfor\u001b[0m \u001b[0mi\u001b[0m\u001b[1;33m,\u001b[0m\u001b[1;33m(\u001b[0m\u001b[0max\u001b[0m\u001b[1;33m,\u001b[0m\u001b[0mtree\u001b[0m\u001b[1;33m)\u001b[0m \u001b[1;32min\u001b[0m \u001b[0menumerate\u001b[0m\u001b[1;33m(\u001b[0m\u001b[0mzip\u001b[0m\u001b[1;33m(\u001b[0m\u001b[0maxes\u001b[0m\u001b[1;33m.\u001b[0m\u001b[0mravel\u001b[0m\u001b[1;33m(\u001b[0m\u001b[1;33m)\u001b[0m\u001b[1;33m,\u001b[0m\u001b[0mforest\u001b[0m\u001b[1;33m.\u001b[0m\u001b[0mestimators_\u001b[0m\u001b[1;33m)\u001b[0m\u001b[1;33m)\u001b[0m\u001b[1;33m:\u001b[0m\u001b[1;33m\u001b[0m\u001b[1;33m\u001b[0m\u001b[0m\n\u001b[0;32m     14\u001b[0m     \u001b[0max\u001b[0m\u001b[1;33m.\u001b[0m\u001b[0mset_title\u001b[0m\u001b[1;33m(\u001b[0m\u001b[1;34m\"Tree{}\"\u001b[0m\u001b[1;33m.\u001b[0m\u001b[0mformat\u001b[0m\u001b[1;33m(\u001b[0m\u001b[0mi\u001b[0m\u001b[1;33m)\u001b[0m\u001b[1;33m)\u001b[0m\u001b[1;33m\u001b[0m\u001b[1;33m\u001b[0m\u001b[0m\n\u001b[1;32m---> 15\u001b[1;33m     \u001b[0mplt\u001b[0m\u001b[1;33m.\u001b[0m\u001b[0mplot\u001b[0m\u001b[1;33m.\u001b[0m\u001b[0mplot_tree_partition\u001b[0m\u001b[1;33m(\u001b[0m\u001b[0mX_train\u001b[0m\u001b[1;33m,\u001b[0m\u001b[0my_train\u001b[0m\u001b[1;33m,\u001b[0m\u001b[0mtree\u001b[0m\u001b[1;33m,\u001b[0m\u001b[0max\u001b[0m\u001b[1;33m=\u001b[0m\u001b[0max\u001b[0m\u001b[1;33m)\u001b[0m\u001b[1;33m\u001b[0m\u001b[1;33m\u001b[0m\u001b[0m\n\u001b[0m\u001b[0;32m     16\u001b[0m \u001b[1;33m\u001b[0m\u001b[0m\n\u001b[0;32m     17\u001b[0m \u001b[0mplt\u001b[0m\u001b[1;33m.\u001b[0m\u001b[0mplots\u001b[0m\u001b[1;33m.\u001b[0m\u001b[0mplot_2d_separator\u001b[0m\u001b[1;33m(\u001b[0m\u001b[0mforest\u001b[0m\u001b[1;33m,\u001b[0m\u001b[0mX_train\u001b[0m\u001b[1;33m,\u001b[0m\u001b[0my_train\u001b[0m\u001b[1;33m,\u001b[0m\u001b[0mfill\u001b[0m\u001b[1;33m=\u001b[0m\u001b[1;32mTrue\u001b[0m\u001b[1;33m,\u001b[0m\u001b[0max\u001b[0m\u001b[1;33m=\u001b[0m\u001b[0maxes\u001b[0m\u001b[1;33m[\u001b[0m\u001b[1;33m-\u001b[0m\u001b[1;36m1\u001b[0m\u001b[1;33m,\u001b[0m\u001b[1;33m-\u001b[0m\u001b[1;36m1\u001b[0m\u001b[1;33m]\u001b[0m\u001b[1;33m,\u001b[0m\u001b[0malpha\u001b[0m\u001b[1;33m=\u001b[0m\u001b[1;36m.4\u001b[0m\u001b[1;33m)\u001b[0m\u001b[1;33m\u001b[0m\u001b[1;33m\u001b[0m\u001b[0m\n",
      "\u001b[1;31mAttributeError\u001b[0m: 'function' object has no attribute 'plot_tree_partition'"
     ]
    },
    {
     "data": {
      "image/png": "[encoded data removed]",
      "text/plain": [
       "<Figure size 1440x720 with 6 Axes>"
      ]
     },
     "metadata": {
      "needs_background": "light"
     },
     "output_type": "display_data"
    }
   ],
   "source": [
    "#random forest algorithms\n",
    "import matplotlib.pyplot as plt\n",
    "from sklearn.ensemble import RandomForestClassifier\n",
    "from sklearn import datasets\n",
    "from sklearn.model_selection import train_test_split\n",
    "iris=datasets.load_iris()\n",
    "X,y=iris.data,iris.target\n",
    "X_train,X_test,y_train,y_test=train_test_split(X,y,random_state=42)\n",
    "forest=RandomForestClassifier(n_estimators=5,random_state=2)\n",
    "forest.fit(X_train,y_train)\n",
    "\n",
    "fig,axes=plt.subplots(2,3,figsize=(20,10))\n",
    "for i,(ax,tree) in enumerate(zip(axes.ravel(),forest.estimators_)):\n",
    "    ax.set_title(\"Tree{}\".format(i))\n",
    "    plt.plot.plot_tree_partition(X_train,y_train,tree,ax=ax)\n",
    "    \n",
    "plt.plots.plot_2d_separator(forest,X_train,y_train,fill=True,ax=axes[-1,-1],alpha=.4)\n",
    "axes[-1,-1].set_title(\"random forest\")\n",
    "plt.discrete_scatter(X_train[:,0],X_train[:,1],y_train)\n",
    "\n",
    "\n",
    "\n",
    "\n",
    "\n",
    "\n",
    "\n",
    "\n",
    "\n",
    "\n",
    "\n"
   ]
  },
  {
   "cell_type": "code",
   "execution_count": null,
   "metadata": {},
   "outputs": [],
   "source": []
  }
 ],
 "metadata": {
  "kernelspec": {
   "display_name": "Python 3",
   "language": "python",
   "name": "python3"
  },
  "language_info": {
   "codemirror_mode": {
    "name": "ipython",
    "version": 3
   },
   "file_extension": ".py",
   "mimetype": "text/x-python",
   "name": "python",
   "nbconvert_exporter": "python",
   "pygments_lexer": "ipython3",
   "version": "3.7.6"
  }
 },
 "nbformat": 4,
 "nbformat_minor": 4
}
